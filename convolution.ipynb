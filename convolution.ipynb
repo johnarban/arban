{
 "cells": [
  {
   "cell_type": "code",
   "execution_count": 11,
   "metadata": {},
   "outputs": [],
   "source": [
    "import numpy as np\n",
    "from astropy.modeling.models import Box1D\n",
    "import matplotlib.pyplot as plt"
   ]
  },
  {
   "cell_type": "code",
   "execution_count": 2,
   "metadata": {},
   "outputs": [],
   "source": [
    "def jconvolve(h1, h2, x1, x2 = None, mode = 'math', normed = None):\n",
    "    \"\"\"convolve two functions with equal sample spacing\n",
    "    \n",
    "    mode: 'math' (default), 'average'\n",
    "           math: corresonds to simply doing the convolution of two functions\n",
    "           average: corresponds to averaging random variables\n",
    "           sum: correspondss to sum of random variables. same as 'math'\n",
    "    normed: None (default), 'density', 'max', float or int, 'none'\n",
    "            if a float or in, it will scale the peak to that value\n",
    "            density makes integral = 1\n",
    "            max scales to peak = 1\n",
    "            'none' = forces don't rescale (good for mode = math)\n",
    "    \n",
    "    written for dealing with PDFs, \n",
    "    \n",
    "    \"\"\"\n",
    "    if mode=='sum':\n",
    "        mode = 'math'\n",
    "    \n",
    "    if isinstance(normed,int):\n",
    "        normed = float(normed)\n",
    "    \n",
    "    if x2 is None:\n",
    "        x2 = x1\n",
    "    \n",
    "    # get sample spacing\n",
    "    delta = np.diff(x1)[0]\n",
    "    \n",
    "    # get convolution #multiply by sample spacing (integral needs dx)\n",
    "    # numpy just uses the sum, not the integral\n",
    "    hconv = np.convolve(h1, h2) * delta\n",
    "    \n",
    "    # math mode should'nt be scaled\n",
    "    # average mode should return density\n",
    "    if (mode=='math') & (normed is None):\n",
    "        normed = None\n",
    "    elif (mode=='average') & (normed is None):\n",
    "        normed = 'density'\n",
    "    \n",
    "    \n",
    "    # the starting point is x1[0] + x2[0]\n",
    "    Xconv = ((x1[0]+x2[0])/delta + np.arange(len(hconv))) * delta\n",
    "    if mode=='math':\n",
    "        pass\n",
    "    elif mode=='average':\n",
    "        #when computing the average, the x-axis is down-weighted\n",
    "        # by a factor of 2. this is accomplished, by rescaling\n",
    "        # the x-axis\n",
    "        Xconv = Xconv / 2 #np.linspace(b[0],b[-1],len(hconv))\n",
    "    \n",
    "    \n",
    "    # return properly scaled functions\n",
    "    if (normed is None) or (normed=='none'):\n",
    "        return hconv, Xconv\n",
    "    \n",
    "    elif normed == 'density':\n",
    "        hconv /= np.sum(hconv * np.diff(Xconv)[0])\n",
    "        return hconv, Xconv\n",
    "    \n",
    "    elif (normed == 'max') | (normed == 1):\n",
    "        hconv /= np.max(hconv)\n",
    "        return hconv, Xconv\n",
    "    \n",
    "    elif isinstance(normed,float):\n",
    "        hconv /= np.max(hconv)\n",
    "        hconv *= normed\n",
    "        return hconv, Xconv\n",
    "        \n"
   ]
  },
  {
   "cell_type": "markdown",
   "metadata": {},
   "source": [
    "$ {\\rm UnitBox[x]} = A\\ \\forall x \\in (x_0,x_1)\\ {\\rm else}\\ 0$"
   ]
  },
  {
   "cell_type": "code",
   "execution_count": null,
   "metadata": {},
   "outputs": [],
   "source": []
  },
  {
   "cell_type": "code",
   "execution_count": 5,
   "metadata": {},
   "outputs": [],
   "source": [
    "def convolution_of_unit_box(x,center_a,center_b,width_a,width_b,amplitudea=1,amplitudeb=1,average=False):\n",
    "    if average:\n",
    "        center_a,center_b,width_a,width_b, amplitudea,amplitudeb = center_a/2,center_b/2,width_a/2,width_b/2, 2*amplitudea, 2*amplitudeb\n",
    "    \n",
    "    c = center_a + center_b\n",
    "    wc = width_a - width_b\n",
    "    wc2 = width_a + width_b\n",
    "#     h1 = models.Box1D(amplitude=1,x_0=center_a,width=width_a)(b)\n",
    "#     h2 = models.Box1D(amplitude=1,x_0=center_b,width=width_b)(b)\n",
    "    x = b\n",
    "    cond1 = (c + wc/2 <  x) & (c - wc/2 > x)\n",
    "    cond2 = ((wc == 0) & (c == x)) | ((wc > 0) & ((2*c + wc >= 2*x)) & (2*c <= wc + 2*x))\n",
    "    cond3 = ((wc >= 0) | (2*c <= wc + 2*x)) & ((wc < 0) | (2*c + wc < 2*x)) & (2*c + wc2 > 2*x)\n",
    "    cond4 = (2*c < wc2 +  2*x) & (((wc == 0) & (c > x) ) | ((2*c + wc >= 2*x) & (wc < 0)) | ((wc > 0) & (2*c > wc + 2*x)))\n",
    "    funcs1 = lambda x: width_a\n",
    "    funcs2 = lambda x: width_b\n",
    "    funcs3 = lambda x: c + wc2/2 - x\n",
    "    funcs4 = lambda x: -c + wc2/2 + x\n",
    "\n",
    "    A = amplitudea * amplitudeb\n",
    "    hc = A * np.piecewise(x,[cond1, cond2, cond3, cond4],[funcs1, funcs2, funcs3, funcs4])\n",
    "    return hc\n",
    "\n",
    "def convolution_of_unit_box_mean(x,center_a,center_b,width_a,width_b,a1,a2):\n",
    "    c = center_a + center_b\n",
    "    z1 = (-2 * c - width_a - width_b)/4 + x\n",
    "    z2 = (-2 * c + width_a - width_b)/4 + x\n",
    "    z3 = (-2 * c - width_a + width_b)/4 + x\n",
    "    z4 = (-2 * c + width_a + width_b)/4 + x\n",
    "    \n",
    "    shape = -2 * ((-z1 * np.sign(z1)) + (z2 * np.sign(z2)) + (z3 * np.sign(z3)) - (z4 * np.sign(z4)))\n",
    "    norm = width_a * width_b\n",
    "    \n",
    "    return   shape / norm"
   ]
  },
  {
   "cell_type": "code",
   "execution_count": 28,
   "metadata": {},
   "outputs": [
    {
     "data": {
      "text/plain": [
       "(-20.0, 20.0)"
      ]
     },
     "execution_count": 28,
     "metadata": {},
     "output_type": "execute_result"
    },
    {
     "data": {
      "image/png": "[encoded data removed]",
      "text/plain": [
       "<Figure size 1000x400 with 1 Axes>"
      ]
     },
     "metadata": {
      "needs_background": "light"
     },
     "output_type": "display_data"
    }
   ],
   "source": [
    "b = np.linspace(-50,50,10000)\n",
    "delta = np.diff(b)[0]\n",
    "n0 = b[0]/delta\n",
    "\n",
    "\n",
    "\n",
    "ca,cb, wa,wb, a1,a2 = 0,5, 3,4, 1,1\n",
    "\n",
    "    \n",
    "h1 = Box1D(amplitude=a1,x_0=ca,width=wa)(b)\n",
    "h2 = Box1D(amplitude=a2,x_0=cb,width=wb)(b)\n",
    "\n",
    "hc = convolution_of_unit_box(b,ca,cb,wa,wb,a1,a2)\n",
    "ha = convolution_of_unit_box_mean(b,ca,cb,wa,wb,a1,a2)\n",
    "\n",
    "plt.figure(figsize=(10,4),dpi=100)\n",
    "\n",
    "plt.plot(b,h1)\n",
    "plt.plot(b,h2)\n",
    "plt.plot(b,hc,'b-',label=\"analytic (math)\")\n",
    "plt.plot(b,ha,'m-',label=\"analytic (mean)\")\n",
    "\n",
    "\n",
    "hconv, bconv = jconvolve(h1,h2,b,mode='average')\n",
    "plt.plot(bconv,hconv,'k--',label='numerical (mean)')\n",
    "\n",
    "hconv, bconv = jconvolve(h1,h2,b,mode='math')\n",
    "plt.plot(bconv,hconv,'r--',label=\"numerical (math)\")\n",
    "\n",
    "plt.legend()\n",
    "\n",
    "\n",
    "#plt.grid('on')\n",
    "\n",
    "plt.xlim(-20,20)"
   ]
  },
  {
   "cell_type": "code",
   "execution_count": 29,
   "metadata": {},
   "outputs": [],
   "source": [
    "from scipy.integrate import trapz"
   ]
  },
  {
   "cell_type": "code",
   "execution_count": 33,
   "metadata": {},
   "outputs": [
    {
     "data": {
      "text/plain": [
       "(11.999999879975997, 0.9999999899979998)"
      ]
     },
     "execution_count": 33,
     "metadata": {},
     "output_type": "execute_result"
    }
   ],
   "source": [
    "trapz(hc,b),trapz(ha,b)"
   ]
  },
  {
   "cell_type": "code",
   "execution_count": null,
   "metadata": {},
   "outputs": [],
   "source": []
  }
 ],
 "metadata": {
  "kernelspec": {
   "display_name": "Python 3 (ipykernel)",
   "language": "python",
   "name": "python3"
  },
  "language_info": {
   "codemirror_mode": {
    "name": "ipython",
    "version": 3
   },
   "file_extension": ".py",
   "mimetype": "text/x-python",
   "name": "python",
   "nbconvert_exporter": "python",
   "pygments_lexer": "ipython3",
   "version": "3.9.10+"
  }
 },
 "nbformat": 4,
 "nbformat_minor": 4
}
